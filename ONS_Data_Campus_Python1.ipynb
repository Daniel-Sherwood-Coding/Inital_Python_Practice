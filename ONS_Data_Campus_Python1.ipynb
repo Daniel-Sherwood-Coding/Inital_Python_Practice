{
 "cells": [
  {
   "cell_type": "markdown",
   "metadata": {},
   "source": [
    "# test2"
   ]
  },
  {
   "cell_type": "code",
   "execution_count": 24,
   "metadata": {},
   "outputs": [],
   "source": [
    "import pandas as pd"
   ]
  },
  {
   "cell_type": "code",
   "execution_count": 13,
   "metadata": {},
   "outputs": [],
   "source": [
    "dan_dict = {}\n",
    "df = [_ for _ in 'abcdefghijklmnopqrstuvwxyz']\n",
    "for index , value in enumerate(df):\n",
    "    dan_dict[value] = index"
   ]
  },
  {
   "cell_type": "code",
   "execution_count": 26,
   "metadata": {},
   "outputs": [],
   "source": [
    "df = [_ for _ in range(1,30,3)]\n",
    "returned_df = list(map(lambda x: x ** 2, df)) #demo of lambda function\n",
    "numbers_dict = {\"numbers\": df, \"squares\": returned_df}\n",
    "df2 = pd.DataFrame(numbers_dict)\n",
    "\n",
    "filtered_even_squares = list(filter(lambda x: x ** 2 % 2 == 0,df))"
   ]
  },
  {
   "cell_type": "code",
   "execution_count": 32,
   "metadata": {},
   "outputs": [],
   "source": [
    "from functools import reduce\n",
    "product = reduce((lambda x, y: x * y ), [1,2,3,4])"
   ]
  },
  {
   "cell_type": "markdown",
   "metadata": {},
   "source": [
    "# demo of scope"
   ]
  },
  {
   "cell_type": "code",
   "execution_count": 36,
   "metadata": {},
   "outputs": [
    {
     "name": "stdout",
     "output_type": "stream",
     "text": [
      "values inside the function:  [40, 50, 60, 70, 80]\n",
      "value outside function:  [1, 2, 3, 4]\n"
     ]
    }
   ],
   "source": [
    "def changeme( mylist):\n",
    "    mylist = [40,50,60,70,80]\n",
    "    print(\"values inside the function: \", mylist)\n",
    "    return mylist\n",
    "\n",
    "testlist = [1,2,3,4]\n",
    "newlist = changeme(testlist)\n",
    "print(\"value outside function: \", testlist)"
   ]
  },
  {
   "cell_type": "markdown",
   "metadata": {},
   "source": [
    "# example from worksheet"
   ]
  },
  {
   "cell_type": "code",
   "execution_count": 40,
   "metadata": {},
   "outputs": [
    {
     "data": {
      "text/plain": [
       "6.4031242374328485"
      ]
     },
     "execution_count": 40,
     "metadata": {},
     "output_type": "execute_result"
    }
   ],
   "source": [
    "def hypotenuse(x,y):\n",
    "    return (x **2 + y ** 2)**0.5\n",
    "hypotenuse(4,5)"
   ]
  },
  {
   "cell_type": "markdown",
   "metadata": {},
   "source": [
    "# below isn't finished"
   ]
  },
  {
   "cell_type": "code",
   "execution_count": 44,
   "metadata": {},
   "outputs": [
    {
     "data": {
      "text/plain": [
       "'I love you'"
      ]
     },
     "execution_count": 44,
     "metadata": {},
     "output_type": "execute_result"
    }
   ],
   "source": [
    "stop = ['you','herself','it','its', 'a', 'the', 'he', 'him']\n",
    "\n",
    "def removeStops(Sentence : str):\n",
    "    for word in Sentence:\n",
    "        if word in stop:\n",
    "            word.drop\n",
    "    return Sentence\n",
    "\n",
    "removeStops(\"I love you\")\n"
   ]
  },
  {
   "cell_type": "code",
   "execution_count": null,
   "metadata": {},
   "outputs": [],
   "source": []
  }
 ],
 "metadata": {
  "kernelspec": {
   "display_name": "Python 3",
   "language": "python",
   "name": "python3"
  },
  "language_info": {
   "codemirror_mode": {
    "name": "ipython",
    "version": 3
   },
   "file_extension": ".py",
   "mimetype": "text/x-python",
   "name": "python",
   "nbconvert_exporter": "python",
   "pygments_lexer": "ipython3",
   "version": "3.10.4"
  }
 },
 "nbformat": 4,
 "nbformat_minor": 2
}
