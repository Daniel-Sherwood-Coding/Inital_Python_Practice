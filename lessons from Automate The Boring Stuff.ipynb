{
 "cells": [
  {
   "cell_type": "code",
   "execution_count": 11,
   "metadata": {},
   "outputs": [
    {
     "name": "stdout",
     "output_type": "stream",
     "text": [
      "hi\n"
     ]
    }
   ],
   "source": [
    "Evaluates_to_false = 42 == '42' # strings != ints\n",
    "\n",
    "x = [_ for _ in range(52)] # range(52) will produce 52 values: 1 to 51\n",
    "x[9::13] # step through every 13th number after the 9th card\n",
    "\n",
    "if x:\n",
    "    print('hi') # prints hi because x is true when it has something in it - this is called Truthey and Falsey"
   ]
  },
  {
   "cell_type": "markdown",
   "metadata": {},
   "source": [
    "# Break and continue"
   ]
  },
  {
   "cell_type": "code",
   "execution_count": 3,
   "metadata": {},
   "outputs": [
    {
     "name": "stdout",
     "output_type": "stream",
     "text": [
      "10\n",
      "9\n",
      "hey, 8 has come up but we wont print it\n",
      "7\n",
      "the code has ended\n"
     ]
    }
   ],
   "source": [
    "x = 10\n",
    "while x > 5:\n",
    "    if x == 6:\n",
    "        break # stops the current loop and continues on\n",
    "    if x == 8:\n",
    "        print('hey, 8 has come up but we wont print it')\n",
    "        x += -1\n",
    "        continue #goes to the next iteration of the loop\n",
    "    print(x)\n",
    "    x = x - 1\n",
    "print('the code has ended')"
   ]
  },
  {
   "cell_type": "markdown",
   "metadata": {},
   "source": [
    "# Showing off Sys.exit"
   ]
  },
  {
   "cell_type": "code",
   "execution_count": 8,
   "metadata": {},
   "outputs": [
    {
     "name": "stdout",
     "output_type": "stream",
     "text": [
      "10\n",
      "9\n",
      "hey, 8 has come up but we wont print it\n",
      "7\n"
     ]
    },
    {
     "ename": "SystemExit",
     "evalue": "",
     "output_type": "error",
     "traceback": [
      "An exception has occurred, use %tb to see the full traceback.\n",
      "\u001b[1;31mSystemExit\u001b[0m\n"
     ]
    }
   ],
   "source": [
    "import sys\n",
    "#from sys import exit  # another way of doing this\n",
    "#from sys import *  # again, another way of doing this\n",
    "#import sys  # again, another way of doing this\n",
    "\n",
    "x = 10\n",
    "while x > 5:\n",
    "    if x == 6:\n",
    "        exit()\n",
    "    if x == 8:\n",
    "        print('hey, 8 has come up but we wont print it')\n",
    "        x += -1\n",
    "        continue\n",
    "    print(x)\n",
    "    x = x - 1\n",
    "print('this wont get printed') # this gets skipped because we use exit rather than break"
   ]
  },
  {
   "cell_type": "markdown",
   "metadata": {},
   "source": [
    "# Exception handling"
   ]
  },
  {
   "cell_type": "code",
   "execution_count": 9,
   "metadata": {},
   "outputs": [
    {
     "name": "stdout",
     "output_type": "stream",
     "text": [
      "you tried to divide by zero\n"
     ]
    }
   ],
   "source": [
    "for i in range(4,-4, -1):\n",
    "    try:\n",
    "        5 / i\n",
    "    except ZeroDivisionError:\n",
    "        print('you tried to divide by zero')\n",
    "        continue"
   ]
  },
  {
   "cell_type": "markdown",
   "metadata": {},
   "source": [
    "# Functions, scope and lambda functions"
   ]
  },
  {
   "cell_type": "code",
   "execution_count": 6,
   "metadata": {},
   "outputs": [
    {
     "data": {
      "text/plain": [
       "100"
      ]
     },
     "execution_count": 6,
     "metadata": {},
     "output_type": "execute_result"
    }
   ],
   "source": [
    "y = 5 # global scope\n",
    "def quadratic_formula(a,b,c, x):\n",
    "    y = (a * x **2) + (b * x) + c\n",
    "    return y\n",
    "\n",
    "quadratic_formula(3,4,5,5)"
   ]
  },
  {
   "cell_type": "markdown",
   "metadata": {},
   "source": [
    "# Collatz conjecture"
   ]
  },
  {
   "cell_type": "code",
   "execution_count": 30,
   "metadata": {},
   "outputs": [
    {
     "name": "stdout",
     "output_type": "stream",
     "text": [
      "25\n",
      "76\n",
      "38\n",
      "19\n",
      "58\n",
      "29\n",
      "88\n",
      "44\n",
      "22\n",
      "11\n",
      "34\n",
      "17\n",
      "52\n",
      "26\n",
      "13\n",
      "40\n",
      "20\n",
      "10\n",
      "5\n",
      "16\n",
      "8\n",
      "4\n",
      "2\n"
     ]
    },
    {
     "data": {
      "text/plain": [
       "'Total iterations = 24'"
      ]
     },
     "execution_count": 30,
     "metadata": {},
     "output_type": "execute_result"
    }
   ],
   "source": [
    "count = 0\n",
    "def collatz(n: int):\n",
    "    global count # this line allows \n",
    "    count += 1\n",
    "    while n != 1:\n",
    "        if n % 2 == 0:\n",
    "            print(n)\n",
    "            return collatz(n // 2) # a return function is necessary other it loops infinitely. I'm not 100% sure why.\n",
    "        else:\n",
    "            print(n)\n",
    "            return collatz((3 * n) + 1)\n",
    "    return \"Total iterations = \" + str(count)\n",
    "collatz(25)"
   ]
  },
  {
   "cell_type": "code",
   "execution_count": null,
   "metadata": {},
   "outputs": [],
   "source": []
  }
 ],
 "metadata": {
  "kernelspec": {
   "display_name": "Python 3",
   "language": "python",
   "name": "python3"
  },
  "language_info": {
   "codemirror_mode": {
    "name": "ipython",
    "version": 3
   },
   "file_extension": ".py",
   "mimetype": "text/x-python",
   "name": "python",
   "nbconvert_exporter": "python",
   "pygments_lexer": "ipython3",
   "version": "3.10.4"
  }
 },
 "nbformat": 4,
 "nbformat_minor": 2
}
